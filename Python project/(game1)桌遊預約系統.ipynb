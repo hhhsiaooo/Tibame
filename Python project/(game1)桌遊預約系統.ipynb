{
 "cells": [
  {
   "cell_type": "code",
   "execution_count": 1,
   "metadata": {
    "id": "historic-journal"
   },
   "outputs": [],
   "source": [
    "\n",
    "# import for database\n",
    "import sqlite3\n",
    "\n",
    "# connect to database\n",
    "connect = sqlite3.connect('game1.db')\n",
    "cursor = connect.cursor()\n",
    "\n",
    "def init_games():\n",
    "\n",
    "    # 建立資料表\n",
    "    cursor.execute(\"CREATE TABLE reservation \\\n",
    "                   (id integer primary key, \\\n",
    "                    game text, \\\n",
    "                    user_id text)\")\n",
    "    connect.commit()\n",
    "\n",
    "    # 填入遊戲\n",
    "    cursor.execute(\"INSERT INTO reservation (game) \\\n",
    "                    VALUES ('小瓦隆')\")\n",
    "    cursor.execute(\"INSERT INTO reservation (game) \\\n",
    "                    VALUES ('雨聲')\")\n",
    "    cursor.execute(\"INSERT INTO reservation (game) \\\n",
    "                    VALUES ('龍捲風')\")\n",
    "    connect.commit()\n",
    "\n",
    "def handle_msg(user_id, msg):\n",
    "\n",
    "    # implement reservation\n",
    "    if msg == '想看遊戲種類':\n",
    "        games = cursor.execute(\"SELECT * FROM reservation WHERE user_id IS NULL\")\n",
    "        ##1.用sql查詢所有未被預約遊戲\n",
    "        game_text = '尚可預約遊戲：\\n'\n",
    "        for game in games:\n",
    "            game_text = game_text + game[1] + '\\n'\n",
    "        print(game_text)\n",
    "        \n",
    "    elif msg[0:3] == '想預約':\n",
    "        game_name = msg[3:]\n",
    "        games = cursor.execute(\"SELECT * FROM reservation\")\n",
    "        ##2.取出所有遊戲，放到games變數裡面\n",
    "        found = False\n",
    "        for game in games:\n",
    "            if game[1] == game_name:\n",
    "                found = True\n",
    "                if game[2] is None:\n",
    "                    cursor.execute(\"UPDATE reservation SET user_id = ? WHERE game = ?\", (user_id, game_name))\n",
    "                    connect.commit()\n",
    "                    ##3.將預約的遊戲 user_id設成此使用者\n",
    "                    print('已為您預約完成：' + game_name)\n",
    "                else:\n",
    "                    print('此遊戲已被預約！抱歉')\n",
    "        if found == False:\n",
    "            print('並沒有此款遊戲')\n",
    "    elif msg == '已預約遊戲':\n",
    "        games = cursor.execute(\"SELECT * FROM reservation WHERE user_id = ?\", (user_id,))\n",
    "        ordered_game = []\n",
    "        for game in games:\n",
    "            ordered_game.append(game[1])\n",
    "        game_text = '已預約遊戲:\\n'\n",
    "        for game in ordered_game:\n",
    "            game_text = game_text + game + '\\n'\n",
    "        print(game_text)    \n",
    "    elif msg[0:5] == '想取消預約':\n",
    "        game_name = msg[5:]\n",
    "        ##4.將所有此使用者預約之遊戲取出，放到games變數內\n",
    "        games = cursor.execute(\"SELECT * FROM reservation WHERE user_id = ?\", (user_id,))\n",
    "        canceled_game_name = []\n",
    "        found = False\n",
    "        for game in games:\n",
    "            canceled_game_name.append(game[1])\n",
    "        for game in canceled_game_name:\n",
    "            if game == game_name:\n",
    "                cursor.execute(\"UPDATE reservation SET user_id = ? WHERE game = ?\", (None, game))\n",
    "                ## 將此遊戲user_id設回None\n",
    "                found =  True\n",
    "                print('已為您取消預約:' + game)\n",
    "        if found == False:\n",
    "            print('未預約此遊戲')\n",
    "            \n",
    "    else:\n",
    "        print('您好！\\n請問需要什麼樣的服務？')\n"
   ]
  },
  {
   "cell_type": "code",
   "execution_count": 2,
   "metadata": {
    "id": "BwjMc1Mf_uLW"
   },
   "outputs": [],
   "source": [
    "'''  -------------------------------\n",
    "              主程式\n",
    "-------------------------------- '''\n",
    "\n",
    "init_games()\n",
    "user_id = '小明'"
   ]
  },
  {
   "cell_type": "code",
   "execution_count": 3,
   "metadata": {
    "colab": {
     "base_uri": "https://localhost:8080/"
    },
    "id": "9qWCjDne_yIs",
    "outputId": "28859cd2-5dc9-4704-8674-ba848087e287"
   },
   "outputs": [
    {
     "name": "stdout",
     "output_type": "stream",
     "text": [
      "輸入訊息：想看遊戲種類\n",
      "尚可預約遊戲：\n",
      "小瓦隆\n",
      "雨聲\n",
      "龍捲風\n",
      "\n",
      "輸入訊息：想預約阿瓦隆\n",
      "並沒有此款遊戲\n",
      "輸入訊息：想預約小瓦隆\n",
      "已為您預約完成：小瓦隆\n",
      "輸入訊息：想預約小瓦隆\n",
      "此遊戲已被預約！抱歉\n",
      "輸入訊息：想預約雨聲\n",
      "已為您預約完成：雨聲\n",
      "輸入訊息：已預約遊戲\n",
      "已預約遊戲:\n",
      "小瓦隆\n",
      "雨聲\n",
      "\n",
      "輸入訊息：想取消預約雨聲\n",
      "已為您取消預約:雨聲\n",
      "輸入訊息：想取消預約龍捲風\n",
      "未預約此遊戲\n",
      "輸入訊息：喔\n",
      "您好！\n",
      "請問需要什麼樣的服務？\n",
      "輸入訊息：結束\n"
     ]
    }
   ],
   "source": [
    "while True:\n",
    "    msg = input('輸入訊息：')\n",
    "    if msg == '結束':\n",
    "        break\n",
    "    handle_msg(user_id, msg)"
   ]
  },
  {
   "cell_type": "code",
   "execution_count": null,
   "metadata": {
    "id": "olWhC8w1_-GZ"
   },
   "outputs": [],
   "source": []
  }
 ],
 "metadata": {
  "colab": {
   "collapsed_sections": [],
   "name": "(修)桌遊預約系統part2.ipynb",
   "provenance": []
  },
  "kernelspec": {
   "display_name": "Python 3",
   "language": "python",
   "name": "python3"
  },
  "language_info": {
   "codemirror_mode": {
    "name": "ipython",
    "version": 3
   },
   "file_extension": ".py",
   "mimetype": "text/x-python",
   "name": "python",
   "nbconvert_exporter": "python",
   "pygments_lexer": "ipython3",
   "version": "3.7.3"
  }
 },
 "nbformat": 4,
 "nbformat_minor": 5
}
