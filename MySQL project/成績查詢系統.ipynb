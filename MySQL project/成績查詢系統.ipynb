{
 "cells": [
  {
   "cell_type": "code",
   "execution_count": null,
   "metadata": {
    "colab": {
     "base_uri": "https://localhost:8080/"
    },
    "executionInfo": {
     "elapsed": 7945,
     "status": "ok",
     "timestamp": 1621163363076,
     "user": {
      "displayName": "蕭蕙嬅",
      "photoUrl": "",
      "userId": "01039101422087794642"
     },
     "user_tz": -480
    },
    "id": "undefined-taylor",
    "outputId": "7e2536a0-2b24-4668-dc05-1427d031376b"
   },
   "outputs": [],
   "source": [
    "!pip install mysqlclient"
   ]
  },
  {
   "cell_type": "markdown",
   "metadata": {
    "id": "medical-server"
   },
   "source": [
    "# 創建資料表"
   ]
  },
  {
   "cell_type": "code",
   "execution_count": null,
   "metadata": {
    "colab": {
     "base_uri": "https://localhost:8080/",
     "height": 376
    },
    "executionInfo": {
     "elapsed": 2986,
     "status": "error",
     "timestamp": 1621172357672,
     "user": {
      "displayName": "蕭蕙嬅",
      "photoUrl": "",
      "userId": "01039101422087794642"
     },
     "user_tz": -480
    },
    "id": "african-desert",
    "outputId": "70523d40-5b44-49b6-bf56-54f6fb113bed"
   },
   "outputs": [],
   "source": [
    "import MySQLdb\n",
    "\n",
    "db = MySQLdb.connect(\"localhost\",\"root\",\"841022\",\"mydatabase\")\n",
    "\n",
    "cursor = db.cursor()\n",
    "\n",
    "## 1.將如果STUDENTS資料表存在，將STUDENTS資料表丟棄\n",
    "cursor.execute(\"DROP TABLE IF EXISTS STUDENTS\")\n",
    "\n",
    "\n",
    "## 2.創建STUDENTS資料表，資料表欄位如下\n",
    "'''\n",
    "| ID INT(11) | NAME CHAR(20) | GENDER CHAR(20) | CHINESE CHAR(20) | ENGLISH CHAR(20) | MATH CHAR(20) | SOCIAL_SCIENCE CHAR(20) | SCIENCE  CHAR(20) |\n",
    "\n",
    "PRIMARY KEY = ID\n",
    "CHARSET = utf8\n",
    "\n",
    "'''\n",
    "sql = \"\"\"CREATE TABLE STUDENTS (\n",
    "          ID INT(11) NOT NULL AUTO_INCREMENT,\n",
    "          NAME CHAR(20) NOT NULL,\n",
    "          GENDER CHAR(20),\n",
    "          CHINESE CHAR(20),\n",
    "          ENGLISH CHAR(20),\n",
    "          MATH CHAR(20),\n",
    "          SOCIAL_SCIENCE CHAR(20),\n",
    "          SCIENCE CHAR(20),\n",
    "          PRIMARY KEY (ID)\n",
    "          )DEFAULT CHARSET=utf8\"\"\"\n",
    "cursor.execute(sql)\n",
    "\n",
    "\n",
    "db.close()"
   ]
  },
  {
   "cell_type": "markdown",
   "metadata": {
    "id": "frequent-helicopter"
   },
   "source": [
    "# 手key學生成績到資料庫內  \n",
    "請手動輸入以下兩位學生成績  \n",
    "name: isaac, gender: m, chinese: 60, english: 72, math: 32, social_science: 52, science: 86  \n",
    "name: amy, gender: f, chinese: 50, english: 22, math: 80, social_science: 15, science: 93"
   ]
  },
  {
   "cell_type": "code",
   "execution_count": null,
   "metadata": {
    "id": "blank-professor",
    "outputId": "44fca99e-a52d-44d4-9729-bffef9757f47"
   },
   "outputs": [],
   "source": [
    "import MySQLdb\n",
    "\n",
    "db = MySQLdb.connect(\"localhost\",\"root\",\"841022\",\"mydatabase\")\n",
    "\n",
    "cursor = db.cursor()\n",
    "\n",
    "print(\"enter students score\")\n",
    "while True:\n",
    "\n",
    "    student_name = input(\"enter name: \")\n",
    "    student_gender = input(\"enter gender: \")\n",
    "    student_chinese = input(\"enter chinese score: \")\n",
    "    student_english = input(\"enter english score: \")\n",
    "    student_math = input(\"enter math score: \")\n",
    "    student_social_science = input(\"enter social science score: \")\n",
    "    student_science = input(\"enter science score: \")\n",
    "    \n",
    "    ## 3.將student_name, student_gender, student_chinese, ......插入到資料庫\n",
    "    x = (student_name, student_gender, student_chinese, student_english, student_math, student_social_science, student_science)\n",
    "    sql = \"\"\"INSERT INTO STUDENTS(NAME, GENDER, CHINESE, ENGLISH, MATH, SOCIAL_SCIENCE, SCIENCE)\n",
    "              VALUES (%s, %s, %s, %s, %s, %s, %s)\"\"\"\n",
    "    try:\n",
    "        cursor.execute(sql, x)\n",
    "        db.commit()\n",
    "    except:\n",
    "        db.rollback()\n",
    "\n",
    "    again = input(\"continue(y/n)? \")\n",
    "    if again[0].lower() == \"n\":\n",
    "        break\n",
    "\n",
    "db.close()"
   ]
  },
  {
   "cell_type": "markdown",
   "metadata": {
    "id": "middle-jesus"
   },
   "source": [
    "# 查詢目前資料庫所有內容"
   ]
  },
  {
   "cell_type": "code",
   "execution_count": null,
   "metadata": {
    "id": "regular-preservation",
    "outputId": "67e4f434-f606-4202-f09d-5521a0325ae5"
   },
   "outputs": [],
   "source": [
    "import MySQLdb\n",
    "\n",
    "db = MySQLdb.connect(\"localhost\",\"root\",\"841022\",\"mydatabase\")\n",
    "\n",
    "\n",
    "cursor = db.cursor()\n",
    "\n",
    "sql = \"SELECT * FROM STUDENTS\"\n",
    "\n",
    "## 4.查詢目前資料庫所有內容\n",
    "try:\n",
    "    cursor.execute(sql)\n",
    "    results = cursor.fetchall() #all the rows in a list of lists\n",
    "\n",
    "    for row in results:\n",
    "        student_id = row[0]\n",
    "        student_name = row[1]\n",
    "        student_gender = row[2]\n",
    "        student_chinese = row[3]\n",
    "        student_english = row[4]\n",
    "        student_math = row[5]\n",
    "        student_social_science = row[6]\n",
    "        student_science = row[7]\n",
    "\n",
    "        print('name: {}, gender: {}, chinese: {}, english: {}, math: {}, social_science: {}, science: {}'\n",
    "            .format(student_name, student_gender, student_chinese, student_english, student_math, student_social_science, student_science))\n",
    "except:\n",
    "    print(\"Error: unable to fetch data\")\n",
    "    \n",
    "db.close()"
   ]
  },
  {
   "cell_type": "markdown",
   "metadata": {
    "id": "governmental-specific"
   },
   "source": [
    "# 使用csv檔案，大量匯入全班成績"
   ]
  },
  {
   "cell_type": "code",
   "execution_count": null,
   "metadata": {
    "id": "bound-battlefield",
    "outputId": "2f5d4ca4-03f3-4303-d5f5-bfbe37506c0f"
   },
   "outputs": [],
   "source": [
    "import MySQLdb\n",
    "\n",
    "db = MySQLdb.connect(\"localhost\",\"root\",\"841022\",\"mydatabase\")\n",
    "\n",
    "\n",
    "cursor = db.cursor()\n",
    "\n",
    "## 5.將exam_score.csv所有學生成績插入資料庫\n",
    "with open('exam_score.csv') as f:\n",
    "    for index, i in enumerate(f.readlines()):\n",
    "        if index == 0:\n",
    "            continue\n",
    "        x = tuple(i.strip().split(','))\n",
    "        print(\"insert {} data...\".format(x[0]))\n",
    "\n",
    "        sql = \"\"\"INSERT INTO STUDENTS(NAME, GENDER, CHINESE, ENGLISH, MATH, SOCIAL_SCIENCE, SCIENCE)\n",
    "              VALUES (%s, %s, %s, %s, %s, %s, %s)\"\"\"\n",
    "\n",
    "    try:\n",
    "        cursor.execute(sql, x)\n",
    "        db.commit()\n",
    "    except:\n",
    "        db.rollback()\n",
    "db.close()"
   ]
  },
  {
   "cell_type": "markdown",
   "metadata": {
    "id": "cooperative-rental"
   },
   "source": [
    "# 將sophia英文成績改成99"
   ]
  },
  {
   "cell_type": "code",
   "execution_count": null,
   "metadata": {
    "id": "starting-nowhere"
   },
   "outputs": [],
   "source": [
    "import MySQLdb\n",
    "\n",
    "db = MySQLdb.connect(\"localhost\",\"root\",\"841022\",\"mydatabase\")\n",
    "\n",
    "cursor = db.cursor()\n",
    "\n",
    "## 6.將sophia英文成績改成99\n",
    "sql = \"UPDATE STUDENTS SET ENGLISH = 99 WHERE NAME = '%s'\" % ('sophia')\n",
    "\n",
    "try:\n",
    "    cursor.execute(sql)\n",
    "    db.commit()\n",
    "except:\n",
    "    db.rollback()\n",
    "\n",
    "    \n",
    "db.close()"
   ]
  },
  {
   "cell_type": "markdown",
   "metadata": {
    "id": "planned-player"
   },
   "source": [
    "# 計算各科平均"
   ]
  },
  {
   "cell_type": "code",
   "execution_count": null,
   "metadata": {
    "id": "occasional-perception",
    "outputId": "abcc3bda-6868-42cd-93ab-27efc2680797"
   },
   "outputs": [],
   "source": [
    "import MySQLdb\n",
    "\n",
    "db = MySQLdb.connect(\"localhost\",\"root\",\"841022\",\"mydatabase\")\n",
    "\n",
    "cursor = db.cursor()\n",
    "\n",
    "\n",
    "sql = \"SELECT * FROM STUDENTS\"\n",
    "chinese_sum = 0\n",
    "english_sum = 0\n",
    "math_sum = 0\n",
    "social_science_sum = 0\n",
    "science_sum = 0\n",
    "\n",
    "try:\n",
    "    \n",
    "    cursor.execute(sql)\n",
    "\n",
    "    results = cursor.fetchall()\n",
    "    num_students = len(results)\n",
    "    ## 7.計算各個科目平均成績\n",
    "    for row in results:\n",
    "        student_id = row[0]\n",
    "        student_name = row[1]\n",
    "        student_gender = row[2]\n",
    "\n",
    "        student_chinese = row[3]\n",
    "        chinese_sum = chinese_sum + float(row[3])\n",
    "\n",
    "        student_english = row[4]\n",
    "        english_sum = english_sum + float(row[4])\n",
    "\n",
    "        student_math = row[5]\n",
    "        math_sum = math_sum + float(row[5])\n",
    "\n",
    "        student_social_science = row[6]\n",
    "        social_science_sum = social_science_sum + float(row[6])\n",
    "\n",
    "        student_science = row[7]\n",
    "        science_sum = science_sum + float(row[7])\n",
    "\n",
    "        print('name: {}, gender: {}, chinese: {}, english: {}, math: {}, social_science: {}, science: {}'\n",
    "                .format(student_name, student_gender, student_chinese, student_english, student_math, student_social_science, student_science))\n",
    "\n",
    "\n",
    "\n",
    "except:\n",
    "    print(\"Error: unable to fecth data\")\n",
    "\n",
    "print('chinese_avg: {}'.format(chinese_sum/num_students))\n",
    "print('english_avg: {}'.format(english_sum/num_students))\n",
    "print('math_avg: {}'.format(math_sum/num_students))\n",
    "print('social_science_avg: {}'.format(social_science_sum/num_students))\n",
    "print('science_avg: {}'.format(science_sum/num_students))\n",
    "\n",
    "db.close()"
   ]
  },
  {
   "cell_type": "code",
   "execution_count": null,
   "metadata": {
    "id": "individual-flood"
   },
   "outputs": [],
   "source": []
  }
 ],
 "metadata": {
  "colab": {
   "collapsed_sections": [],
   "name": "成績查詢系統.ipynb",
   "provenance": []
  },
  "kernelspec": {
   "display_name": "Python 3",
   "language": "python",
   "name": "python3"
  },
  "language_info": {
   "codemirror_mode": {
    "name": "ipython",
    "version": 3
   },
   "file_extension": ".py",
   "mimetype": "text/x-python",
   "name": "python",
   "nbconvert_exporter": "python",
   "pygments_lexer": "ipython3",
   "version": "3.7.3"
  }
 },
 "nbformat": 4,
 "nbformat_minor": 5
}
